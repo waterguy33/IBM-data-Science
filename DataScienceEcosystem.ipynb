{
 "cells": [
  {
   "cell_type": "markdown",
   "id": "4ae9aa0f",
   "metadata": {},
   "source": [
    "# Data Science Tools and Ecosystem"
   ]
  },
  {
   "cell_type": "markdown",
   "id": "b335925f",
   "metadata": {},
   "source": [
    "In this notebook, Data Science Tools and Ecosystem are summarized."
   ]
  },
  {
   "cell_type": "markdown",
   "id": "a8d706d5",
   "metadata": {},
   "source": [
    "**Some of the popular languages that Data Scientists use are:**\n",
    "\n",
    "1. **Python**: Python is one of the most widely used programming languages in data science. It has a rich ecosystem of libraries and frameworks specifically designed for data analysis, such as NumPy, Pandas, and SciPy. Python's simplicity, versatility, and extensive community support make it a popular choice among data scientists.\n",
    "\n",
    "2. **R**: R is another popular language among data scientists, particularly in the field of statistical analysis. It provides a comprehensive set of tools for data manipulation, visualization, and statistical modeling. R has a strong community and a wide range of packages like ggplot2 and dplyr that make it suitable for statistical analysis and data exploration.\n",
    "\n",
    "3. **SQL**: While not a programming language in the traditional sense, SQL (Structured Query Language) is essential for working with relational databases. Data scientists often use SQL to extract, manipulate, and analyze data stored in databases. SQL is crucial for querying large datasets efficiently and performing database operations.\n"
   ]
  },
  {
   "cell_type": "markdown",
   "id": "b493760c",
   "metadata": {},
   "source": [
    "**Some of the commonly used libraries used by Data Scientists include:**\n",
    "\n",
    "1. **NumPy**: A powerful library for numerical computing in Python, providing support for large, multi-dimensional arrays and a wide range of mathematical functions.\n",
    "\n",
    "2. **Pandas**: A versatile library for data manipulation and analysis, offering data structures like DataFrames to efficiently handle structured data.\n",
    "\n",
    "3. **Matplotlib**: A popular plotting library in Python that provides a wide range of customizable visualizations for data exploration and presentation.\n",
    "\n",
    "4. **Seaborn**: Built on top of Matplotlib, Seaborn offers a high-level interface for creating beautiful statistical visualizations, making it easier to generate insightful plots.\n",
    "\n",
    "5. **Scikit-learn**: A comprehensive machine learning library that provides a wide array of algorithms and tools for tasks such as classification, regression, clustering, and dimensionality reduction.\n"
   ]
  },
  {
   "cell_type": "markdown",
   "id": "a067639d",
   "metadata": {},
   "source": [
    "| Data Science Tools |\n",
    "| ------------------ |\n",
    "| Jupyter Notebook |\n",
    "| RStudio |\n",
    "| Visual Studio Code |"
   ]
  },
  {
   "cell_type": "markdown",
   "id": "6d2a52ed",
   "metadata": {},
   "source": [
    "   "
   ]
  },
  {
   "cell_type": "markdown",
   "id": "2ac372a7",
   "metadata": {},
   "source": [
    "#### Below are a few examples of evaluating arithmetic expressions in Python."
   ]
  },
  {
   "cell_type": "code",
   "execution_count": 7,
   "id": "da51f189",
   "metadata": {},
   "outputs": [
    {
     "data": {
      "text/plain": [
       "17"
      ]
     },
     "execution_count": 7,
     "metadata": {},
     "output_type": "execute_result"
    }
   ],
   "source": [
    "# This a simple arithmetic expression to mutiply then add integers\n",
    "(3*4)+5"
   ]
  },
  {
   "cell_type": "code",
   "execution_count": 8,
   "id": "ec47fcdf",
   "metadata": {},
   "outputs": [
    {
     "data": {
      "text/plain": [
       "3.3333333333333335"
      ]
     },
     "execution_count": 8,
     "metadata": {},
     "output_type": "execute_result"
    }
   ],
   "source": [
    "# This will convert 200 minutes to hours by diving by 60\n",
    "def minuite_to_hour(value):\n",
    "    return value / 60\n",
    "\n",
    "minuite_to_hour(200)"
   ]
  },
  {
   "cell_type": "markdown",
   "id": "f01a147f",
   "metadata": {},
   "source": [
    "**Objectives:**\n",
    "* Provide an overview of popular programming languages used in data science.\n",
    "* Discuss commonly used data science libraries and their functionalities.\n",
    "* Present a summary of essential tools and frameworks in the data science ecosystem.\n",
    "* Introduce open-source development environment tools used in data science.\n",
    "* Offer key takeaways to enhance understanding of the data science landscape."
   ]
  },
  {
   "cell_type": "markdown",
   "id": "741144a5",
   "metadata": {},
   "source": [
    "## Author\n",
    "TEAC HYEON KIM"
   ]
  }
 ],
 "metadata": {
  "kernelspec": {
   "display_name": "Python 3 (ipykernel)",
   "language": "python",
   "name": "python3"
  },
  "language_info": {
   "codemirror_mode": {
    "name": "ipython",
    "version": 3
   },
   "file_extension": ".py",
   "mimetype": "text/x-python",
   "name": "python",
   "nbconvert_exporter": "python",
   "pygments_lexer": "ipython3",
   "version": "3.10.9"
  }
 },
 "nbformat": 4,
 "nbformat_minor": 5
}
